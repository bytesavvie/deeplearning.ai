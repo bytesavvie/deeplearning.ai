{
 "cells": [
  {
   "attachments": {},
   "cell_type": "markdown",
   "id": "aaa2f6de-6c55-4411-b93a-e054cf93fed9",
   "metadata": {},
   "source": [
    "# L1 Language Models, the Chat Format and Tokens"
   ]
  },
  {
   "attachments": {},
   "cell_type": "markdown",
   "id": "2466fa69-0b8f-4db3-b1eb-d84e0d120290",
   "metadata": {},
   "source": [
    "## Setup\n",
    "#### Load the API key and relevant Python libs.\n",
    "In this course, we've provided some code that loads the OpenAI for you."
   ]
  },
  {
   "cell_type": "code",
   "execution_count": 15,
   "id": "75ea47d7-ed7f-4cfc-9d2d-aaedfe995882",
   "metadata": {},
   "outputs": [],
   "source": [
    "import os\n",
    "import openai\n",
    "from dotenv import load_dotenv, find_dotenv\n",
    "_ = load_dotenv(find_dotenv()) # read local .env file\n",
    "\n",
    "openai.api_key = os.environ['OPENAI_API_KEY']"
   ]
  },
  {
   "attachments": {},
   "cell_type": "markdown",
   "id": "280eac51-b98b-406b-9264-fa067d30c449",
   "metadata": {},
   "source": [
    "#### helper function"
   ]
  },
  {
   "cell_type": "code",
   "execution_count": 24,
   "id": "f9c5a853-985d-4fdb-86f9-383587f1d98d",
   "metadata": {},
   "outputs": [],
   "source": [
    "def get_completion(prompt, model=\"gpt-3.5-turbo\"):\n",
    "    messages = [{\"role\": \"user\", \"content\": prompt}]\n",
    "    response = openai.ChatCompletion.create(\n",
    "        model=model,\n",
    "        messages=messages,\n",
    "        temperature=0,\n",
    "    )\n",
    "    return response.choices[0].message[\"content\"]"
   ]
  },
  {
   "attachments": {},
   "cell_type": "markdown",
   "id": "7b0aed51-482a-46be-9c3c-03074487a504",
   "metadata": {},
   "source": [
    "## Prompt the model and get a completion"
   ]
  },
  {
   "cell_type": "code",
   "execution_count": null,
   "id": "a575fa55-56a2-494c-9eb2-a8e4506cf87a",
   "metadata": {},
   "outputs": [],
   "source": [
    "response = get_completion(\"What is the capital of France?\")"
   ]
  },
  {
   "cell_type": "code",
   "execution_count": null,
   "id": "42faf7fb-0ab2-4189-b5f7-f53929edf56a",
   "metadata": {},
   "outputs": [],
   "source": [
    "print(response)"
   ]
  },
  {
   "cell_type": "code",
   "execution_count": null,
   "id": "83b9fcd9-e2b7-4977-9184-a073833c24f4",
   "metadata": {},
   "outputs": [],
   "source": []
  }
 ],
 "metadata": {
  "kernelspec": {
   "display_name": "Python 3 (ipykernel)",
   "language": "python",
   "name": "python3"
  },
  "language_info": {
   "codemirror_mode": {
    "name": "ipython",
    "version": 3
   },
   "file_extension": ".py",
   "mimetype": "text/x-python",
   "name": "python",
   "nbconvert_exporter": "python",
   "pygments_lexer": "ipython3",
   "version": "3.11.4"
  }
 },
 "nbformat": 4,
 "nbformat_minor": 5
}
